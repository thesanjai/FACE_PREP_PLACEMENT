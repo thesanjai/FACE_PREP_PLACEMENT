{
 "cells": [
  {
   "cell_type": "code",
   "execution_count": 1,
   "id": "1c3c57b1",
   "metadata": {},
   "outputs": [
    {
     "name": "stdout",
     "output_type": "stream",
     "text": [
      "(2n C n) / (n+1) for n = 3 is 5\n"
     ]
    }
   ],
   "source": [
    "import math\n",
    "\n",
    "def catalan(n):\n",
    "    return math.comb(2 * n, n) // (n + 1)\n",
    "\n",
    "# Example usage\n",
    "n = int(input(\"Enter n: \"))\n",
    "result = catalan(n)\n",
    "print(f\"(2n C n) / (n+1) for n = {n} is {result}\")\n"
   ]
  }
 ],
 "metadata": {
  "kernelspec": {
   "display_name": "Python 3",
   "language": "python",
   "name": "python3"
  },
  "language_info": {
   "codemirror_mode": {
    "name": "ipython",
    "version": 3
   },
   "file_extension": ".py",
   "mimetype": "text/x-python",
   "name": "python",
   "nbconvert_exporter": "python",
   "pygments_lexer": "ipython3",
   "version": "3.10.14"
  }
 },
 "nbformat": 4,
 "nbformat_minor": 5
}
